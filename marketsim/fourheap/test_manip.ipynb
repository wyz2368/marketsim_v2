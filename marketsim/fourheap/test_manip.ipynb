{
 "cells": [
  {
   "cell_type": "code",
   "execution_count": 7,
   "id": "initial_id",
   "metadata": {
    "collapsed": true,
    "ExecuteTime": {
     "end_time": "2023-11-01T23:39:00.794944Z",
     "start_time": "2023-11-01T23:39:00.665486Z"
    }
   },
   "outputs": [
    {
     "name": "stdout",
     "output_type": "stream",
     "text": [
      "The autoreload extension is already loaded. To reload it, use:\n",
      "  %reload_ext autoreload\n"
     ]
    }
   ],
   "source": [
    "%load_ext autoreload\n",
    "%autoreload 2\n",
    "\n",
    "from fourheap import FourHeap\n",
    "from order import Order\n",
    "import constants"
   ]
  },
  {
   "cell_type": "code",
   "execution_count": 8,
   "outputs": [],
   "source": [
    "def get_vwap(matched_orders):\n",
    "    num = 0\n",
    "    den = 0\n",
    "    for order in matched_orders:\n",
    "        if order.order.order_type == constants.BUY:\n",
    "            price = order.price\n",
    "            quantity = order.order.quantity\n",
    "            num += price*quantity\n",
    "            den += quantity\n",
    "            \n",
    "    return num/den\n"
   ],
   "metadata": {
    "collapsed": false,
    "ExecuteTime": {
     "end_time": "2023-11-01T23:39:01.447566Z",
     "start_time": "2023-11-01T23:39:01.430420Z"
    }
   },
   "id": "c1a61ad08e99f88f"
  },
  {
   "cell_type": "code",
   "execution_count": 9,
   "outputs": [],
   "source": [
    "fh = FourHeap()\n",
    "\n",
    "oid = 0\n",
    "order =  Order(price=102, quantity=1, order_id=oid, agent_id=1, order_type=constants.SELL, time=1)\n",
    "fh.insert(order)\n",
    "oid += 1\n",
    "order =  Order(price=101, quantity=1, order_id=oid, agent_id=1, order_type=constants.SELL, time=1)\n",
    "fh.insert(order)\n",
    "oid += 1\n",
    "order =  Order(price=97, quantity=1, order_id=oid, agent_id=1, order_type=constants.BUY, time=1)\n",
    "fh.insert(order)\n",
    "oid += 1\n",
    "order =  Order(price=98, quantity=1, order_id=oid, agent_id=1, order_type=constants.BUY, time=1)\n",
    "fh.insert(order)\n",
    "oid += 1\n",
    "order =  Order(price=99, quantity=1, order_id=oid, agent_id=1, order_type=constants.BUY, time=1)\n",
    "fh.insert(order)\n",
    "out = fh.market_clear()\n",
    "oid += 1\n",
    "order =  Order(price=101, quantity=1, order_id=oid, agent_id=1, order_type=constants.BUY, time=2)\n",
    "fh.insert(order)\n",
    "out += fh.market_clear()\n",
    "oid += 1\n",
    "order =  Order(price=99, quantity=1, order_id=oid, agent_id=1, order_type=constants.SELL, time=4)\n",
    "fh.insert(order)\n",
    "out += fh.market_clear()\n",
    "oid += 1\n",
    "order =  Order(price=101, quantity=1, order_id=oid, agent_id=1, order_type=constants.SELL, time=5)\n",
    "fh.insert(order)\n",
    "out += fh.market_clear()\n",
    "oid += 1\n",
    "order =  Order(price=101, quantity=1, order_id=oid, agent_id=1, order_type=constants.BUY, time=6)\n",
    "fh.insert(order)\n",
    "out += fh.market_clear()\n",
    "oid += 1\n",
    "\n",
    "\n"
   ],
   "metadata": {
    "collapsed": false,
    "ExecuteTime": {
     "end_time": "2023-11-01T23:39:01.869848Z",
     "start_time": "2023-11-01T23:39:01.852111Z"
    }
   },
   "id": "f5338d3ab850379f"
  },
  {
   "cell_type": "code",
   "execution_count": 10,
   "outputs": [
    {
     "data": {
      "text/plain": "100.33333333333333"
     },
     "execution_count": 10,
     "metadata": {},
     "output_type": "execute_result"
    }
   ],
   "source": [
    "get_vwap(out)"
   ],
   "metadata": {
    "collapsed": false,
    "ExecuteTime": {
     "end_time": "2023-11-01T23:39:02.385099Z",
     "start_time": "2023-11-01T23:39:02.370552Z"
    }
   },
   "id": "879f0483fc4843d9"
  },
  {
   "cell_type": "code",
   "execution_count": 11,
   "outputs": [],
   "source": [
    "order =  Order(price=99, quantity=1, order_id=oid, agent_id=1, order_type=constants.SELL, time=7)\n",
    "fh.insert(order)\n",
    "out += fh.market_clear()\n",
    "oid += 1\n",
    "order =  Order(price=98, quantity=1, order_id=oid, agent_id=1, order_type=constants.SELL, time=8)\n",
    "fh.insert(order)\n",
    "out += fh.market_clear()\n",
    "oid += 1\n",
    "order =  Order(price=97, quantity=1, order_id=oid, agent_id=1, order_type=constants.SELL, time=9)\n",
    "fh.insert(order)\n",
    "out += fh.market_clear()\n",
    "oid += 1\n"
   ],
   "metadata": {
    "collapsed": false,
    "ExecuteTime": {
     "end_time": "2023-11-01T23:39:03.064419Z",
     "start_time": "2023-11-01T23:39:03.040575Z"
    }
   },
   "id": "5a6f76edb4dc7410"
  },
  {
   "cell_type": "code",
   "execution_count": 12,
   "outputs": [
    {
     "data": {
      "text/plain": "99.2"
     },
     "execution_count": 12,
     "metadata": {},
     "output_type": "execute_result"
    }
   ],
   "source": [
    "get_vwap(out)"
   ],
   "metadata": {
    "collapsed": false,
    "ExecuteTime": {
     "end_time": "2023-11-01T23:39:03.070711Z",
     "start_time": "2023-11-01T23:39:03.053799Z"
    }
   },
   "id": "70cc208991c64663"
  },
  {
   "cell_type": "code",
   "execution_count": 95,
   "outputs": [],
   "source": [
    "a = [1, 2, 3, 4]"
   ],
   "metadata": {
    "collapsed": false,
    "ExecuteTime": {
     "end_time": "2023-11-01T21:03:34.045261Z",
     "start_time": "2023-11-01T21:03:33.895642Z"
    }
   },
   "id": "528112ad629492a"
  },
  {
   "cell_type": "code",
   "execution_count": 96,
   "outputs": [],
   "source": [
    "import random"
   ],
   "metadata": {
    "collapsed": false,
    "ExecuteTime": {
     "end_time": "2023-11-01T21:03:37.711445Z",
     "start_time": "2023-11-01T21:03:37.696242Z"
    }
   },
   "id": "7ae9a98dc93d21b1"
  },
  {
   "cell_type": "code",
   "execution_count": 97,
   "outputs": [
    {
     "data": {
      "text/plain": "[2, 1, 4, 3]"
     },
     "execution_count": 97,
     "metadata": {},
     "output_type": "execute_result"
    }
   ],
   "source": [
    "random.shuffle(a)\n",
    "a"
   ],
   "metadata": {
    "collapsed": false,
    "ExecuteTime": {
     "end_time": "2023-11-01T21:03:42.607269Z",
     "start_time": "2023-11-01T21:03:42.577571Z"
    }
   },
   "id": "3a2bc68aedb16220"
  },
  {
   "cell_type": "code",
   "execution_count": 98,
   "outputs": [
    {
     "data": {
      "text/plain": "<random.Random at 0x1469aac20>"
     },
     "execution_count": 98,
     "metadata": {},
     "output_type": "execute_result"
    }
   ],
   "source": [
    "random.Random(None)"
   ],
   "metadata": {
    "collapsed": false,
    "ExecuteTime": {
     "end_time": "2023-11-01T21:12:14.949515Z",
     "start_time": "2023-11-01T21:12:14.879507Z"
    }
   },
   "id": "ebf015dbc5447fb3"
  },
  {
   "cell_type": "code",
   "execution_count": null,
   "outputs": [],
   "source": [],
   "metadata": {
    "collapsed": false
   },
   "id": "3b403a781c8f899b"
  }
 ],
 "metadata": {
  "kernelspec": {
   "display_name": "Python 3",
   "language": "python",
   "name": "python3"
  },
  "language_info": {
   "codemirror_mode": {
    "name": "ipython",
    "version": 2
   },
   "file_extension": ".py",
   "mimetype": "text/x-python",
   "name": "python",
   "nbconvert_exporter": "python",
   "pygments_lexer": "ipython2",
   "version": "2.7.6"
  }
 },
 "nbformat": 4,
 "nbformat_minor": 5
}
