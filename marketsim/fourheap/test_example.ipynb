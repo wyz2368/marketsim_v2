{
 "cells": [
  {
   "cell_type": "code",
   "execution_count": 1,
   "id": "initial_id",
   "metadata": {
    "collapsed": true,
    "ExecuteTime": {
     "end_time": "2024-02-15T02:58:01.932728400Z",
     "start_time": "2024-02-15T02:58:01.836718500Z"
    }
   },
   "outputs": [],
   "source": [
    "%load_ext autoreload\n",
    "%autoreload 2\n",
    "\n",
    "from fourheap import FourHeap\n",
    "from order import Order\n",
    "import constants"
   ]
  },
  {
   "cell_type": "code",
   "execution_count": 2,
   "outputs": [],
   "source": [
    "fh = FourHeap()\n",
    "\n",
    "order1 = Order(price=300, quantity=10, order_id=1, agent_id=1, order_type=constants.BUY,\n",
    "               time=1)\n",
    "order2 = Order(price=200, quantity=5, order_id=2, agent_id=1, order_type=constants.BUY,\n",
    "               time=1)\n",
    "order3 = Order(price=150, quantity=15, order_id=3, agent_id=1, order_type=constants.BUY, \n",
    "               time=1)\n",
    "\n",
    "order7 = Order(price=20, quantity=15, order_id=7, agent_id=1, order_type=constants.SELL,\n",
    "               time=1)\n",
    "order8 = Order(price=80, quantity=50, order_id=8, agent_id=1, order_type=constants.SELL,\n",
    "                time=1)"
   ],
   "metadata": {
    "collapsed": false,
    "ExecuteTime": {
     "end_time": "2024-02-15T02:58:02.781044700Z",
     "start_time": "2024-02-15T02:58:02.773044500Z"
    }
   },
   "id": "9ebe7d13cf6423a0"
  },
  {
   "cell_type": "code",
   "execution_count": 3,
   "outputs": [],
   "source": [
    "fh.insert(order3)\n",
    "fh.insert(order7)\n",
    "fh.insert(order8)\n",
    "fh.insert(order1)\n",
    "fh.insert(order2)\n"
   ],
   "metadata": {
    "collapsed": false,
    "ExecuteTime": {
     "end_time": "2024-02-15T02:58:03.660111800Z",
     "start_time": "2024-02-15T02:58:03.653112200Z"
    }
   },
   "id": "93cdb5497d91e96f"
  },
  {
   "cell_type": "code",
   "execution_count": 4,
   "outputs": [
    {
     "data": {
      "text/plain": "[(150, 3), (300, 1), (200, 2)]"
     },
     "execution_count": 4,
     "metadata": {},
     "output_type": "execute_result"
    }
   ],
   "source": [
    "fh.buy_matched.heap"
   ],
   "metadata": {
    "collapsed": false,
    "ExecuteTime": {
     "end_time": "2024-02-15T02:58:04.538813500Z",
     "start_time": "2024-02-15T02:58:04.523814200Z"
    }
   },
   "id": "747b16129f56edbf"
  },
  {
   "cell_type": "code",
   "execution_count": 5,
   "outputs": [
    {
     "data": {
      "text/plain": "[(-80, 8), (-20, 7)]"
     },
     "execution_count": 5,
     "metadata": {},
     "output_type": "execute_result"
    }
   ],
   "source": [
    "fh.sell_matched.heap"
   ],
   "metadata": {
    "collapsed": false,
    "ExecuteTime": {
     "end_time": "2024-02-15T02:58:07.749219Z",
     "start_time": "2024-02-15T02:58:07.739219400Z"
    }
   },
   "id": "8169195a279cd32"
  },
  {
   "cell_type": "code",
   "execution_count": 6,
   "outputs": [
    {
     "data": {
      "text/plain": "[(80, 8)]"
     },
     "execution_count": 6,
     "metadata": {},
     "output_type": "execute_result"
    }
   ],
   "source": [
    "fh.sell_unmatched.heap"
   ],
   "metadata": {
    "collapsed": false,
    "ExecuteTime": {
     "end_time": "2024-02-15T02:58:22.883525Z",
     "start_time": "2024-02-15T02:58:22.820525200Z"
    }
   },
   "id": "11ed1f5c2ad952a3"
  },
  {
   "cell_type": "code",
   "execution_count": 7,
   "outputs": [
    {
     "data": {
      "text/plain": "[]"
     },
     "execution_count": 7,
     "metadata": {},
     "output_type": "execute_result"
    }
   ],
   "source": [
    "fh.buy_unmatched.heap"
   ],
   "metadata": {
    "collapsed": false,
    "ExecuteTime": {
     "end_time": "2024-02-15T02:58:24.395110200Z",
     "start_time": "2024-02-15T02:58:24.385109900Z"
    }
   },
   "id": "9f09233888ad784f"
  },
  {
   "cell_type": "code",
   "execution_count": 8,
   "outputs": [
    {
     "name": "stdout",
     "output_type": "stream",
     "text": []
    }
   ],
   "source": [
    "print(fh.buy_unmatched)"
   ],
   "metadata": {
    "collapsed": false,
    "ExecuteTime": {
     "end_time": "2024-02-15T03:01:27.539239100Z",
     "start_time": "2024-02-15T03:01:27.477241Z"
    }
   },
   "id": "3c43c2da0789ef35"
  },
  {
   "cell_type": "code",
   "execution_count": 9,
   "outputs": [
    {
     "name": "stdout",
     "output_type": "stream",
     "text": [
      "Order(price=150, order_type=1, quantity=15, agent_id=1, time=1, order_id=3, asset_id=1)\n",
      "Order(price=300, order_type=1, quantity=10, agent_id=1, time=1, order_id=1, asset_id=1)\n",
      "Order(price=200, order_type=1, quantity=5, agent_id=1, time=1, order_id=2, asset_id=1)\n"
     ]
    }
   ],
   "source": [
    "print(fh.buy_matched)"
   ],
   "metadata": {
    "collapsed": false,
    "ExecuteTime": {
     "end_time": "2024-02-15T03:01:28.401368Z",
     "start_time": "2024-02-15T03:01:28.353369Z"
    }
   },
   "id": "61fe04339be0c2"
  },
  {
   "cell_type": "code",
   "execution_count": 10,
   "outputs": [
    {
     "name": "stdout",
     "output_type": "stream",
     "text": [
      "Order(price=80, order_type=-1, quantity=15, agent_id=1, time=1, order_id=8, asset_id=1)\n",
      "Order(price=20, order_type=-1, quantity=15, agent_id=1, time=1, order_id=7, asset_id=1)\n"
     ]
    }
   ],
   "source": [
    "print(fh.sell_matched)"
   ],
   "metadata": {
    "collapsed": false,
    "ExecuteTime": {
     "end_time": "2024-02-15T03:01:31.512680400Z",
     "start_time": "2024-02-15T03:01:31.506682900Z"
    }
   },
   "id": "7c42ecce7faf149a"
  },
  {
   "cell_type": "code",
   "execution_count": 11,
   "outputs": [
    {
     "name": "stdout",
     "output_type": "stream",
     "text": [
      "Order(price=80, order_type=-1, quantity=35, agent_id=1, time=1, order_id=8, asset_id=1)\n"
     ]
    }
   ],
   "source": [
    "print(fh.sell_unmatched)"
   ],
   "metadata": {
    "collapsed": false,
    "ExecuteTime": {
     "end_time": "2024-02-15T03:01:32.577841400Z",
     "start_time": "2024-02-15T03:01:32.570841300Z"
    }
   },
   "id": "97c20b8738e0e160"
  },
  {
   "cell_type": "code",
   "execution_count": 12,
   "outputs": [],
   "source": [
    "# fh.remove(7)"
   ],
   "metadata": {
    "collapsed": false,
    "ExecuteTime": {
     "end_time": "2024-01-08T23:52:52.927214Z",
     "start_time": "2024-01-08T23:52:52.918215300Z"
    }
   },
   "id": "6e649f84a266ab4b"
  },
  {
   "cell_type": "code",
   "execution_count": 12,
   "outputs": [
    {
     "data": {
      "text/plain": "[(-80, 8), (-20, 7)]"
     },
     "execution_count": 12,
     "metadata": {},
     "output_type": "execute_result"
    }
   ],
   "source": [
    "fh.sell_matched.heap"
   ],
   "metadata": {
    "collapsed": false,
    "ExecuteTime": {
     "end_time": "2024-02-15T03:01:38.273859800Z",
     "start_time": "2024-02-15T03:01:38.265860800Z"
    }
   },
   "id": "3386bcd8b0da583e"
  },
  {
   "cell_type": "code",
   "execution_count": 13,
   "outputs": [
    {
     "name": "stdout",
     "output_type": "stream",
     "text": [
      "Order(price=80, order_type=-1, quantity=15, agent_id=1, time=1, order_id=8, asset_id=1)\n",
      "Order(price=20, order_type=-1, quantity=15, agent_id=1, time=1, order_id=7, asset_id=1)\n"
     ]
    }
   ],
   "source": [
    "print(fh.sell_matched)"
   ],
   "metadata": {
    "collapsed": false,
    "ExecuteTime": {
     "end_time": "2024-02-15T03:01:39.616025200Z",
     "start_time": "2024-02-15T03:01:39.555999400Z"
    }
   },
   "id": "f5ba9a22f4298ec9"
  },
  {
   "cell_type": "code",
   "execution_count": 14,
   "outputs": [],
   "source": [
    "out = fh.market_clear()"
   ],
   "metadata": {
    "collapsed": false,
    "ExecuteTime": {
     "end_time": "2024-02-15T03:01:41.789313300Z",
     "start_time": "2024-02-15T03:01:41.780314100Z"
    }
   },
   "id": "8913eb6e1d953001"
  },
  {
   "cell_type": "code",
   "execution_count": 15,
   "outputs": [
    {
     "name": "stdout",
     "output_type": "stream",
     "text": [
      "MatchedOrder(price=80, order=Order(price=150, order_type=1, quantity=15, agent_id=1, time=1, order_id=3, asset_id=1))\n",
      "MatchedOrder(price=80, order=Order(price=300, order_type=1, quantity=10, agent_id=1, time=1, order_id=1, asset_id=1))\n",
      "MatchedOrder(price=80, order=Order(price=200, order_type=1, quantity=5, agent_id=1, time=1, order_id=2, asset_id=1))\n",
      "MatchedOrder(price=80, order=Order(price=80, order_type=-1, quantity=15, agent_id=1, time=1, order_id=8, asset_id=1))\n",
      "MatchedOrder(price=80, order=Order(price=20, order_type=-1, quantity=15, agent_id=1, time=1, order_id=7, asset_id=1))\n"
     ]
    }
   ],
   "source": [
    "for order in out:\n",
    "    print(order)"
   ],
   "metadata": {
    "collapsed": false,
    "ExecuteTime": {
     "end_time": "2024-02-15T03:01:42.771800800Z",
     "start_time": "2024-02-15T03:01:42.719754700Z"
    }
   },
   "id": "c3911e579bae5350"
  },
  {
   "cell_type": "code",
   "execution_count": 17,
   "outputs": [],
   "source": [
    "def get_vwap(matched_orders):\n",
    "    num = 0\n",
    "    den = 0\n",
    "    for order in matched_orders:\n",
    "        if order.order.order_type == constants.BUY:\n",
    "            price = order.price\n",
    "            quantity = order.order.quantity\n",
    "            num += price*quantity\n",
    "            den += quantity\n",
    "            \n",
    "    return num/den\n",
    "        "
   ],
   "metadata": {
    "collapsed": false,
    "ExecuteTime": {
     "end_time": "2024-01-08T23:52:54.521390600Z",
     "start_time": "2024-01-08T23:52:54.513391Z"
    }
   },
   "id": "eb97977a550f358d"
  },
  {
   "cell_type": "code",
   "execution_count": 18,
   "outputs": [],
   "source": [
    "fh = FourHeap()\n",
    "\n",
    "oid = 0\n",
    "order =  Order(price=102, quantity=1, order_id=oid, agent_id=1, order_type=constants.SELL, time=1)\n",
    "fh.insert(order)\n",
    "oid += 1\n",
    "order =  Order(price=101, quantity=1, order_id=oid, agent_id=1, order_type=constants.SELL, time=1)\n",
    "fh.insert(order)\n",
    "oid += 1\n",
    "order =  Order(price=97, quantity=1, order_id=oid, agent_id=1, order_type=constants.BUY, time=1)\n",
    "fh.insert(order)\n",
    "oid += 1\n",
    "order =  Order(price=98, quantity=1, order_id=oid, agent_id=1, order_type=constants.BUY, time=1)\n",
    "fh.insert(order)\n",
    "oid += 1\n",
    "order =  Order(price=99, quantity=1, order_id=oid, agent_id=1, order_type=constants.BUY, time=1)\n",
    "fh.insert(order)\n",
    "oid += 1\n",
    "order =  Order(price=101, quantity=1, order_id=oid, agent_id=1, order_type=constants.BUY, time=2)\n",
    "fh.insert(order)\n",
    "oid += 1\n",
    "# order =  Order(price=99, quantity=1, order_id=oid, agent_id=1, order_type=constants.SELL, time=4)\n",
    "fh.insert(order)\n",
    "oid += 1\n",
    "\n",
    "\n"
   ],
   "metadata": {
    "collapsed": false,
    "ExecuteTime": {
     "end_time": "2024-01-08T23:52:54.896240200Z",
     "start_time": "2024-01-08T23:52:54.855110800Z"
    }
   },
   "id": "a81820101b4e087c"
  },
  {
   "cell_type": "code",
   "execution_count": 19,
   "outputs": [
    {
     "data": {
      "text/plain": "[(-101, 1)]"
     },
     "execution_count": 19,
     "metadata": {},
     "output_type": "execute_result"
    }
   ],
   "source": [
    "fh.sell_matched.heap"
   ],
   "metadata": {
    "collapsed": false,
    "ExecuteTime": {
     "end_time": "2024-01-08T23:52:55.345586900Z",
     "start_time": "2024-01-08T23:52:55.337587600Z"
    }
   },
   "id": "7647d34c6ea77478"
  },
  {
   "cell_type": "code",
   "execution_count": 20,
   "outputs": [
    {
     "data": {
      "text/plain": "[(101, 5)]"
     },
     "execution_count": 20,
     "metadata": {},
     "output_type": "execute_result"
    }
   ],
   "source": [
    "fh.buy_matched.heap"
   ],
   "metadata": {
    "collapsed": false,
    "ExecuteTime": {
     "end_time": "2024-01-08T23:52:55.592954100Z",
     "start_time": "2024-01-08T23:52:55.583955Z"
    }
   },
   "id": "30a5bec45b2ca81e"
  },
  {
   "cell_type": "code",
   "execution_count": 21,
   "outputs": [
    {
     "name": "stdout",
     "output_type": "stream",
     "text": [
      "Order(price=101, order_type=1, quantity=1, agent_id=1, time=2, order_id=5, asset_id=1)\n",
      "Order(price=99, order_type=1, quantity=1, agent_id=1, time=1, order_id=4, asset_id=1)\n",
      "Order(price=98, order_type=1, quantity=1, agent_id=1, time=1, order_id=3, asset_id=1)\n",
      "Order(price=97, order_type=1, quantity=1, agent_id=1, time=1, order_id=2, asset_id=1)\n"
     ]
    }
   ],
   "source": [
    "print(fh.buy_unmatched)"
   ],
   "metadata": {
    "collapsed": false,
    "ExecuteTime": {
     "end_time": "2024-01-08T23:52:55.872952800Z",
     "start_time": "2024-01-08T23:52:55.810955500Z"
    }
   },
   "id": "45627cba17b3c4a5"
  },
  {
   "cell_type": "code",
   "execution_count": 22,
   "outputs": [
    {
     "name": "stdout",
     "output_type": "stream",
     "text": [
      "Order(price=101, order_type=1, quantity=1, agent_id=1, time=2, order_id=5, asset_id=1)\n"
     ]
    }
   ],
   "source": [
    "print(fh.buy_matched)"
   ],
   "metadata": {
    "collapsed": false,
    "ExecuteTime": {
     "end_time": "2024-01-08T23:52:56.049963Z",
     "start_time": "2024-01-08T23:52:56.040963800Z"
    }
   },
   "id": "319562bdfc5ad3ff"
  },
  {
   "cell_type": "code",
   "execution_count": 23,
   "outputs": [],
   "source": [
    "out = fh.market_clear()"
   ],
   "metadata": {
    "collapsed": false,
    "ExecuteTime": {
     "end_time": "2024-01-08T23:52:56.348981800Z",
     "start_time": "2024-01-08T23:52:56.340982200Z"
    }
   },
   "id": "7b5a28688de2b32"
  },
  {
   "cell_type": "code",
   "execution_count": 24,
   "outputs": [
    {
     "data": {
      "text/plain": "101.0"
     },
     "execution_count": 24,
     "metadata": {},
     "output_type": "execute_result"
    }
   ],
   "source": [
    "get_vwap(out)"
   ],
   "metadata": {
    "collapsed": false,
    "ExecuteTime": {
     "end_time": "2024-01-08T23:52:56.612677400Z",
     "start_time": "2024-01-08T23:52:56.554612200Z"
    }
   },
   "id": "924849aeef5a91cf"
  },
  {
   "cell_type": "code",
   "execution_count": 25,
   "outputs": [
    {
     "name": "stdout",
     "output_type": "stream",
     "text": [
      "MatchedOrder(price=101, order=Order(price=101, order_type=1, quantity=1, agent_id=1, time=2, order_id=5, asset_id=1))\n",
      "MatchedOrder(price=101, order=Order(price=101, order_type=-1, quantity=1, agent_id=1, time=1, order_id=1, asset_id=1))\n"
     ]
    }
   ],
   "source": [
    "for order in out:\n",
    "    print(order)"
   ],
   "metadata": {
    "collapsed": false,
    "ExecuteTime": {
     "end_time": "2024-01-08T23:52:57.036669600Z",
     "start_time": "2024-01-08T23:52:56.988676700Z"
    }
   },
   "id": "df94e896bfc46e72"
  },
  {
   "cell_type": "code",
   "execution_count": 26,
   "outputs": [
    {
     "name": "stdout",
     "output_type": "stream",
     "text": [
      "Order(price=102, order_type=-1, quantity=1, agent_id=1, time=1, order_id=0, asset_id=1)\n"
     ]
    }
   ],
   "source": [
    "print(fh.sell_unmatched)"
   ],
   "metadata": {
    "collapsed": false,
    "ExecuteTime": {
     "end_time": "2024-01-08T23:52:57.300793100Z",
     "start_time": "2024-01-08T23:52:57.292793700Z"
    }
   },
   "id": "d80deb923c1433ba"
  },
  {
   "cell_type": "code",
   "execution_count": 27,
   "outputs": [
    {
     "name": "stdout",
     "output_type": "stream",
     "text": [
      "Order(price=101, order_type=1, quantity=1, agent_id=1, time=2, order_id=5, asset_id=1)\n",
      "Order(price=99, order_type=1, quantity=1, agent_id=1, time=1, order_id=4, asset_id=1)\n",
      "Order(price=98, order_type=1, quantity=1, agent_id=1, time=1, order_id=3, asset_id=1)\n",
      "Order(price=97, order_type=1, quantity=1, agent_id=1, time=1, order_id=2, asset_id=1)\n"
     ]
    }
   ],
   "source": [
    "print(fh.buy_unmatched)"
   ],
   "metadata": {
    "collapsed": false,
    "ExecuteTime": {
     "end_time": "2024-01-08T23:52:57.666452300Z",
     "start_time": "2024-01-08T23:52:57.607032500Z"
    }
   },
   "id": "f8019646d738bda6"
  },
  {
   "cell_type": "code",
   "execution_count": 29,
   "outputs": [],
   "source": [
    "b = 900/4.2"
   ],
   "metadata": {
    "collapsed": false,
    "ExecuteTime": {
     "end_time": "2024-01-08T23:53:30.886915200Z",
     "start_time": "2024-01-08T23:53:30.874916200Z"
    }
   },
   "id": "ac1508356ed926d0"
  },
  {
   "cell_type": "code",
   "outputs": [
    {
     "data": {
      "text/plain": "17.14285714285711"
     },
     "execution_count": 32,
     "metadata": {},
     "output_type": "execute_result"
    }
   ],
   "source": [
    "(b/60 + (300-b)/15)*60-540"
   ],
   "metadata": {
    "collapsed": false,
    "ExecuteTime": {
     "end_time": "2024-01-08T23:53:56.314403900Z",
     "start_time": "2024-01-08T23:53:56.306404300Z"
    }
   },
   "id": "353ee9f5cfb2de87",
   "execution_count": 32
  },
  {
   "cell_type": "code",
   "outputs": [],
   "source": [],
   "metadata": {
    "collapsed": false
   },
   "id": "2d018066eaafd92e"
  }
 ],
 "metadata": {
  "kernelspec": {
   "display_name": "Python 3",
   "language": "python",
   "name": "python3"
  },
  "language_info": {
   "codemirror_mode": {
    "name": "ipython",
    "version": 2
   },
   "file_extension": ".py",
   "mimetype": "text/x-python",
   "name": "python",
   "nbconvert_exporter": "python",
   "pygments_lexer": "ipython2",
   "version": "2.7.6"
  }
 },
 "nbformat": 4,
 "nbformat_minor": 5
}
