{
 "cells": [
  {
   "cell_type": "code",
   "execution_count": 1,
   "id": "initial_id",
   "metadata": {
    "collapsed": true,
    "ExecuteTime": {
     "end_time": "2024-03-28T13:30:27.558365Z",
     "start_time": "2024-03-28T13:30:26.699836Z"
    }
   },
   "outputs": [],
   "source": [
    "from private_values import PrivateValues"
   ]
  },
  {
   "cell_type": "code",
   "outputs": [],
   "source": [
    "p = PrivateValues(q_max=3, val_var=1e6)"
   ],
   "metadata": {
    "collapsed": false,
    "ExecuteTime": {
     "end_time": "2024-03-28T13:30:28.035635Z",
     "start_time": "2024-03-28T13:30:28.032978Z"
    }
   },
   "id": "df523aedda21c2fb",
   "execution_count": 2
  },
  {
   "cell_type": "code",
   "outputs": [
    {
     "name": "stdout",
     "output_type": "stream",
     "text": [
      "643.605712890625 -1507.83740234375\n"
     ]
    }
   ],
   "source": [
    "print(p.extra_sell, p.extra_buy)"
   ],
   "metadata": {
    "collapsed": false,
    "ExecuteTime": {
     "end_time": "2024-03-28T13:30:28.361436Z",
     "start_time": "2024-03-28T13:30:28.359134Z"
    }
   },
   "id": "ee866205c0666d8",
   "execution_count": 3
  },
  {
   "cell_type": "code",
   "outputs": [
    {
     "data": {
      "text/plain": "tensor([  643.6057,   461.0842,   405.9583,  -512.3292,  -976.6262, -1507.8374])"
     },
     "execution_count": 4,
     "metadata": {},
     "output_type": "execute_result"
    }
   ],
   "source": [
    "p.values"
   ],
   "metadata": {
    "collapsed": false,
    "ExecuteTime": {
     "end_time": "2024-03-28T13:30:29.285512Z",
     "start_time": "2024-03-28T13:30:29.281439Z"
    }
   },
   "id": "30a43acfd25efc25",
   "execution_count": 4
  },
  {
   "cell_type": "code",
   "outputs": [
    {
     "data": {
      "text/plain": "3"
     },
     "execution_count": 5,
     "metadata": {},
     "output_type": "execute_result"
    }
   ],
   "source": [
    "p.offset"
   ],
   "metadata": {
    "collapsed": false,
    "ExecuteTime": {
     "end_time": "2024-03-28T13:30:30.245168Z",
     "start_time": "2024-03-28T13:30:30.242276Z"
    }
   },
   "id": "ca14d050d1f60a63",
   "execution_count": 5
  },
  {
   "cell_type": "code",
   "outputs": [
    {
     "data": {
      "text/plain": "-512.3291625976562"
     },
     "execution_count": 6,
     "metadata": {},
     "output_type": "execute_result"
    }
   ],
   "source": [
    "p.value_for_exchange(1, -1)"
   ],
   "metadata": {
    "collapsed": false,
    "ExecuteTime": {
     "end_time": "2024-03-28T13:30:30.864415Z",
     "start_time": "2024-03-28T13:30:30.861633Z"
    }
   },
   "id": "f189043c14a67a21",
   "execution_count": 6
  },
  {
   "cell_type": "code",
   "outputs": [
    {
     "data": {
      "text/plain": "-976.6261596679688"
     },
     "execution_count": 7,
     "metadata": {},
     "output_type": "execute_result"
    }
   ],
   "source": [
    "p.value_for_exchange(1, 1)"
   ],
   "metadata": {
    "collapsed": false,
    "ExecuteTime": {
     "end_time": "2024-03-28T13:30:37.596843Z",
     "start_time": "2024-03-28T13:30:37.593877Z"
    }
   },
   "id": "7d870cb8b2fee43b",
   "execution_count": 7
  },
  {
   "cell_type": "code",
   "outputs": [
    {
     "data": {
      "text/plain": "tensor(-3441.4653)"
     },
     "execution_count": 12,
     "metadata": {},
     "output_type": "execute_result"
    }
   ],
   "source": [
    "p.value_at_position(-6)"
   ],
   "metadata": {
    "collapsed": false,
    "ExecuteTime": {
     "end_time": "2024-03-28T13:31:03.265187Z",
     "start_time": "2024-03-28T13:31:03.261475Z"
    }
   },
   "id": "e0584f4ae225db6b",
   "execution_count": 12
  },
  {
   "cell_type": "code",
   "outputs": [
    {
     "data": {
      "text/plain": "tensor(3441.4653)"
     },
     "execution_count": 13,
     "metadata": {},
     "output_type": "execute_result"
    }
   ],
   "source": [
    "sum(p.values[0:p.offset]) + p.values[0]*3"
   ],
   "metadata": {
    "collapsed": false,
    "ExecuteTime": {
     "end_time": "2024-03-28T13:31:03.723377Z",
     "start_time": "2024-03-28T13:31:03.720078Z"
    }
   },
   "id": "b8592f54c0e1061",
   "execution_count": 13
  },
  {
   "cell_type": "code",
   "outputs": [
    {
     "data": {
      "text/plain": "tensor(-7520.3047)"
     },
     "execution_count": 17,
     "metadata": {},
     "output_type": "execute_result"
    }
   ],
   "source": [
    "p.value_at_position(6)"
   ],
   "metadata": {
    "collapsed": false,
    "ExecuteTime": {
     "end_time": "2024-03-28T13:31:13.085959Z",
     "start_time": "2024-03-28T13:31:13.082608Z"
    }
   },
   "id": "6c86bd389282a12d",
   "execution_count": 17
  },
  {
   "cell_type": "code",
   "outputs": [
    {
     "data": {
      "text/plain": "tensor(-7520.3047)"
     },
     "execution_count": 15,
     "metadata": {},
     "output_type": "execute_result"
    }
   ],
   "source": [
    "sum(p.values[p.offset:]) + p.values[-1]*3\n"
   ],
   "metadata": {
    "collapsed": false,
    "ExecuteTime": {
     "end_time": "2024-03-28T13:31:05.972777Z",
     "start_time": "2024-03-28T13:31:05.969667Z"
    }
   },
   "id": "392252dcacd67aa",
   "execution_count": 15
  },
  {
   "cell_type": "code",
   "outputs": [
    {
     "data": {
      "text/plain": "tensor(-1510.6482)"
     },
     "execution_count": 20,
     "metadata": {},
     "output_type": "execute_result"
    }
   ],
   "source": [
    "p.value_at_position(-3)\n"
   ],
   "metadata": {
    "collapsed": false,
    "ExecuteTime": {
     "end_time": "2024-03-28T13:31:31.833503Z",
     "start_time": "2024-03-28T13:31:31.829963Z"
    }
   },
   "id": "42b3f1306fcf4b13",
   "execution_count": 20
  },
  {
   "cell_type": "code",
   "outputs": [],
   "source": [],
   "metadata": {
    "collapsed": false
   },
   "id": "28163eb39e7cb7f9"
  }
 ],
 "metadata": {
  "kernelspec": {
   "display_name": "Python 3",
   "language": "python",
   "name": "python3"
  },
  "language_info": {
   "codemirror_mode": {
    "name": "ipython",
    "version": 2
   },
   "file_extension": ".py",
   "mimetype": "text/x-python",
   "name": "python",
   "nbconvert_exporter": "python",
   "pygments_lexer": "ipython2",
   "version": "2.7.6"
  }
 },
 "nbformat": 4,
 "nbformat_minor": 5
}
