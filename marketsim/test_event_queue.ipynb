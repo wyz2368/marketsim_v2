{
 "cells": [
  {
   "cell_type": "code",
   "execution_count": 1,
   "id": "initial_id",
   "metadata": {
    "collapsed": true,
    "ExecuteTime": {
     "end_time": "2023-11-02T02:00:54.071626Z",
     "start_time": "2023-11-02T02:00:52.890317Z"
    }
   },
   "outputs": [],
   "source": [
    "from marketsim.event.event_queue import EventQueue\n",
    "from marketsim.fourheap.order import Order\n",
    "from marketsim.fourheap.constants import BUY, SELL\n",
    "from marketsim.market.market import Market\n",
    "from marketsim.fundamental.mean_reverting import GaussianMeanReverting\n"
   ]
  },
  {
   "cell_type": "code",
   "execution_count": 2,
   "outputs": [],
   "source": [
    "e = EventQueue()"
   ],
   "metadata": {
    "collapsed": false,
    "ExecuteTime": {
     "end_time": "2023-11-02T02:00:55.364165Z",
     "start_time": "2023-11-02T02:00:55.357739Z"
    }
   },
   "id": "adf6ffdda3d8a689"
  },
  {
   "cell_type": "code",
   "execution_count": 3,
   "outputs": [],
   "source": [
    "order1 = Order(price=1, quantity=1, time=1, agent_id=1, order_id=1, order_type=BUY)\n",
    "order2 = Order(price=1, quantity=1, time=1, agent_id=1, order_id=2, order_type=BUY)\n",
    "order3 = Order(price=1, quantity=1, time=3, agent_id=1, order_id=3, order_type=SELL)\n"
   ],
   "metadata": {
    "collapsed": false,
    "ExecuteTime": {
     "end_time": "2023-11-02T02:00:55.631574Z",
     "start_time": "2023-11-02T02:00:55.627375Z"
    }
   },
   "id": "acd56cd67811e74d"
  },
  {
   "cell_type": "code",
   "execution_count": 4,
   "outputs": [],
   "source": [
    "e.schedule_activity(order1)\n",
    "e.schedule_activity(order2)\n",
    "e.schedule_activity(order3)\n"
   ],
   "metadata": {
    "collapsed": false,
    "ExecuteTime": {
     "end_time": "2023-11-02T02:00:55.846956Z",
     "start_time": "2023-11-02T02:00:55.845125Z"
    }
   },
   "id": "e81b92116b7c7b9d"
  },
  {
   "cell_type": "code",
   "execution_count": 5,
   "outputs": [
    {
     "data": {
      "text/plain": "[]"
     },
     "execution_count": 5,
     "metadata": {},
     "output_type": "execute_result"
    }
   ],
   "source": [
    "e.step()"
   ],
   "metadata": {
    "collapsed": false,
    "ExecuteTime": {
     "end_time": "2023-11-02T02:00:56.086065Z",
     "start_time": "2023-11-02T02:00:56.051275Z"
    }
   },
   "id": "2b15b5866d781227"
  },
  {
   "cell_type": "code",
   "execution_count": 6,
   "outputs": [
    {
     "data": {
      "text/plain": "[Order(price=1, order_type=1, quantity=1, agent_id=1, time=1, order_id=1, asset_id=1),\n Order(price=1, order_type=1, quantity=1, agent_id=1, time=1, order_id=2, asset_id=1)]"
     },
     "execution_count": 6,
     "metadata": {},
     "output_type": "execute_result"
    }
   ],
   "source": [
    "e.step()"
   ],
   "metadata": {
    "collapsed": false,
    "ExecuteTime": {
     "end_time": "2023-11-02T02:00:56.227455Z",
     "start_time": "2023-11-02T02:00:56.224831Z"
    }
   },
   "id": "eba7945d5a7f5263"
  },
  {
   "cell_type": "code",
   "execution_count": 7,
   "outputs": [
    {
     "data": {
      "text/plain": "[]"
     },
     "execution_count": 7,
     "metadata": {},
     "output_type": "execute_result"
    }
   ],
   "source": [
    "e.step()"
   ],
   "metadata": {
    "collapsed": false,
    "ExecuteTime": {
     "end_time": "2023-11-02T02:00:56.439237Z",
     "start_time": "2023-11-02T02:00:56.434962Z"
    }
   },
   "id": "8ac0f93a500647fb"
  },
  {
   "cell_type": "code",
   "execution_count": 8,
   "outputs": [],
   "source": [
    "f = GaussianMeanReverting(mean=100, r=0.2, final_time=100, shock_var=10)"
   ],
   "metadata": {
    "collapsed": false,
    "ExecuteTime": {
     "end_time": "2023-11-02T02:00:56.645679Z",
     "start_time": "2023-11-02T02:00:56.640489Z"
    }
   },
   "id": "88cbe58aba097195"
  },
  {
   "cell_type": "code",
   "execution_count": 9,
   "outputs": [],
   "source": [
    "m = Market(f)"
   ],
   "metadata": {
    "collapsed": false,
    "ExecuteTime": {
     "end_time": "2023-11-02T02:00:57.178505Z",
     "start_time": "2023-11-02T02:00:57.176993Z"
    }
   },
   "id": "b19ca32418bbd288"
  },
  {
   "cell_type": "code",
   "execution_count": 10,
   "outputs": [
    {
     "data": {
      "text/plain": "100.0"
     },
     "execution_count": 10,
     "metadata": {},
     "output_type": "execute_result"
    }
   ],
   "source": [
    "m.get_fundamental_value()"
   ],
   "metadata": {
    "collapsed": false,
    "ExecuteTime": {
     "end_time": "2023-11-02T02:00:57.896940Z",
     "start_time": "2023-11-02T02:00:57.883064Z"
    }
   },
   "id": "910dcd209c37965"
  },
  {
   "cell_type": "code",
   "execution_count": 13,
   "outputs": [],
   "source": [
    "m.add_order(order1)\n",
    "m.add_order(order2)\n",
    "m.add_order(order3)\n"
   ],
   "metadata": {
    "collapsed": false,
    "ExecuteTime": {
     "end_time": "2023-11-02T02:01:34.513870Z",
     "start_time": "2023-11-02T02:01:34.507170Z"
    }
   },
   "id": "fecf8d0b5d2b0d76"
  },
  {
   "cell_type": "code",
   "execution_count": 24,
   "outputs": [],
   "source": [
    "m.step()"
   ],
   "metadata": {
    "collapsed": false,
    "ExecuteTime": {
     "end_time": "2023-11-02T02:02:15.127481Z",
     "start_time": "2023-11-02T02:02:15.119847Z"
    }
   },
   "id": "5592a8bef91a39dd"
  },
  {
   "cell_type": "code",
   "execution_count": 25,
   "outputs": [
    {
     "data": {
      "text/plain": "defaultdict(list,\n            {1: [Order(price=1, order_type=1, quantity=1, agent_id=1, time=1, order_id=1, asset_id=1),\n              Order(price=1, order_type=1, quantity=1, agent_id=1, time=1, order_id=2, asset_id=1)],\n             3: [Order(price=1, order_type=-1, quantity=1, agent_id=1, time=3, order_id=3, asset_id=1)],\n             0: [],\n             2: []})"
     },
     "execution_count": 25,
     "metadata": {},
     "output_type": "execute_result"
    }
   ],
   "source": [
    "m.event_queue.scheduled_activities"
   ],
   "metadata": {
    "collapsed": false,
    "ExecuteTime": {
     "end_time": "2023-11-02T02:02:15.439666Z",
     "start_time": "2023-11-02T02:02:15.435653Z"
    }
   },
   "id": "3ec35fc46b4dfdaf"
  },
  {
   "cell_type": "code",
   "execution_count": 26,
   "outputs": [
    {
     "data": {
      "text/plain": "4"
     },
     "execution_count": 26,
     "metadata": {},
     "output_type": "execute_result"
    }
   ],
   "source": [
    "m.get_time()"
   ],
   "metadata": {
    "collapsed": false,
    "ExecuteTime": {
     "end_time": "2023-11-02T02:02:16.395887Z",
     "start_time": "2023-11-02T02:02:16.353163Z"
    }
   },
   "id": "f226ab58891b1b9f"
  },
  {
   "cell_type": "code",
   "execution_count": null,
   "outputs": [],
   "source": [],
   "metadata": {
    "collapsed": false
   },
   "id": "2747f8bda9e21ed1"
  }
 ],
 "metadata": {
  "kernelspec": {
   "display_name": "Python 3",
   "language": "python",
   "name": "python3"
  },
  "language_info": {
   "codemirror_mode": {
    "name": "ipython",
    "version": 2
   },
   "file_extension": ".py",
   "mimetype": "text/x-python",
   "name": "python",
   "nbconvert_exporter": "python",
   "pygments_lexer": "ipython2",
   "version": "2.7.6"
  }
 },
 "nbformat": 4,
 "nbformat_minor": 5
}
